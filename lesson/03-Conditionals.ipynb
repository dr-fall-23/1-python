{
 "cells": [
  {
   "cell_type": "code",
   "execution_count": null,
   "metadata": {},
   "outputs": [],
   "source": [
    "# suppress automatic output\n",
    "from IPython.core.interactiveshell import InteractiveShell\n",
    "InteractiveShell.ast_node_interactivity = \"none\""
   ]
  },
  {
   "cell_type": "markdown",
   "metadata": {},
   "source": [
    "# Conditional Statements\n",
    "\n",
    "<p style='font-size:1.75rem;line-height:1.5'>\n",
    "    <b style=\"color:red\">Conditional statements</b> tell the program <b style=\"color:blue\">when to run a particular block of code</b>. Often, we only want something to happen when a certain <b style=\"color:blue\">condition is met</b>.\n",
    "    </p>\n",
    "    \n",
    "<p style='font-size:1.75rem;line-height:1.5'>  \n",
    "    For example, we might want a robot to stop if it is a particular distance from a wall.\n",
    "    </p>\n",
    "    \n",
    "<p style='font-size:1.75rem;line-height:1.5'>\n",
    "    In Python, we can use <b style=\"color:red\">comparison operators</b> along with the keywords <code>if</code>, <code>else</code>, and <code>elif</code> to write conditional statements.\n",
    "    </p>"
   ]
  },
  {
   "cell_type": "markdown",
   "metadata": {},
   "source": [
    "# Comparing Numbers\n",
    "\n",
    "<p style='font-size:1.75rem;line-height:1.5'>\n",
    "    We often need to know whether one number is <b style=\"color:blue\">larger than</b>, <b style=\"color:red\">less than</b>, or <b>equal to</b> another. The following operators allow us to do this:\n",
    "    </p>\n",
    "<ul style='font-size:1.75rem;line-height:1.5'>\n",
    "    <li><code>&lt;</code>: less than</li>\n",
    "    <li><code>&lt;=</code>: less than or equal to</li>\n",
    "    <li><code>&gt;</code>: greater than</li>\n",
    "    <li><code>&gt;=</code>: greater than or equal to</li>\n",
    "    <li><code>==</code>: is equal to</li>\n",
    "    <li><code>!=</code>: is not equal to</li>\n",
    "    <li><code>is</code>: is identical to</li>\n",
    "    <li><code>is not</code>: not identical to</li>\n",
    "</ul>"
   ]
  },
  {
   "cell_type": "markdown",
   "metadata": {},
   "source": [
    "<p style='font-size:1.75rem;line-height:1.5'>\n",
    "    1. Write a function that takes in two <i>numbers</i> are returns if they are <b>equal</b>.\n",
    "\n",
    "    Test your function!\n",
    "    Does equal_numbers(2, 3) return False?\n",
    "    Does equal_numbers(2, 2) return True?\n",
    "</p>"
   ]
  },
  {
   "cell_type": "code",
   "execution_count": null,
   "metadata": {},
   "outputs": [],
   "source": [
    "# Checks if x and y are equal to eachother\n",
    "def equal_numbers(x, y)  -> bool:\n",
    "    # Write your code here!\n",
    "\n",
    "# Test your code here!"
   ]
  },
  {
   "cell_type": "markdown",
   "metadata": {},
   "source": [
    "<p style='font-size:1.75rem;line-height:1.5'>\n",
    "    Run the code block below. <b style=\"color:red\">Before running it</b>, do you expect the result to be <code>True</code> or <code>False</code>? \n",
    "    <br> What does the result tell us about how <code>==</code> <b style=\"color:blue\">compares integers and floats?</b>\n",
    "    </p>"
   ]
  },
  {
   "cell_type": "code",
   "execution_count": null,
   "metadata": {},
   "outputs": [],
   "source": [
    "# Start your code here\n",
    "print(equal_numbers(2, 2.000))\n"
   ]
  },
  {
   "cell_type": "markdown",
   "metadata": {},
   "source": [
    "<p style='font-size:1.75rem;line-height:1.5'>\n",
    "    Look at the code below. Do you expect the result to be <code>True</code> or <code>False</code>? What does the result tell us about how <code>is</code> compares integers and floats?\n",
    "    </p>"
   ]
  },
  {
   "cell_type": "code",
   "execution_count": null,
   "metadata": {},
   "outputs": [],
   "source": [
    "# Start your code here\n",
    "print(2 is 2.0)\n"
   ]
  },
  {
   "cell_type": "markdown",
   "metadata": {},
   "source": [
    "<p style='font-size:1.75rem;line-height:1.5'>\n",
    "    2. Write a function that checks if a number is positive.\n",
    "    </p>"
   ]
  },
  {
   "cell_type": "code",
   "execution_count": null,
   "metadata": {},
   "outputs": [],
   "source": [
    "# Checks if x is positive\n",
    "def positive(x) -> bool:\n",
    "    # Write your code here!\n",
    "\n",
    "# Test your code here!"
   ]
  },
  {
   "cell_type": "markdown",
   "metadata": {},
   "source": [
    "# Comparing Booleans\n",
    "<p style='font-size:1.75rem;line-height:1.5'>\n",
    "    <b style=\"color:blue\">Booleans can be compared</b> using the <code>==</code>, <code>!=</code>, <code>is</code>, and <code>is not</code> operators.\n",
    "    </p>"
   ]
  },
  {
   "cell_type": "markdown",
   "metadata": {},
   "source": [
    "<p style='font-size:1.75rem;line-height:1.5'>\n",
    "    Many programming languages have a property called <b>truthiness</b>. Normally, we think of True and False only belonging to the <i>boolean</i>. What do you expect the code block below to print?\n",
    "    </p>"
   ]
  },
  {
   "cell_type": "code",
   "execution_count": null,
   "metadata": {},
   "outputs": [],
   "source": [
    "a = False\n",
    "b = 0\n",
    "print(a == b)\n",
    "print(a is b)"
   ]
  },
  {
   "cell_type": "markdown",
   "metadata": {},
   "source": [
    "<p style='font-size:1.75rem;line-height:1.5'>\n",
    "    3. As you can see, non-boolean data can be True or False aswell!\n",
    "    Write a function below called is_truthy which takes in a variable and returns its \"truthiness\"!\n",
    "    </p>"
   ]
  },
  {
   "cell_type": "code",
   "execution_count": null,
   "metadata": {},
   "outputs": [],
   "source": [
    "# Returns if data is \"truthy\"\n",
    "def is_truthy(var) -> bool:\n",
    "    # Write your code here!"
   ]
  },
  {
   "cell_type": "markdown",
   "metadata": {},
   "source": [
    "<p style='font-size:1.75rem;line-height:1.5'>\n",
    "    Explore the following code below to explore different truthiness values in Python!\n",
    "    </p>"
   ]
  },
  {
   "cell_type": "code",
   "execution_count": null,
   "metadata": {},
   "outputs": [],
   "source": [
    "# Returns if data is \"truthy\"\n",
    "print(is_truthy(0))\n",
    "print(is_truthy(123))\n",
    "print(is_truthy(\"\"))\n",
    "print(is_truthy(\"Hello World\"))"
   ]
  },
  {
   "cell_type": "markdown",
   "metadata": {},
   "source": [
    "# Comparing Strings\n",
    "\n",
    "<p style='font-size:1.75rem;line-height:1.5'>\n",
    "    We can <b style=\"color:blue\">compare strings</b> using the <code>==</code>, <code>!=</code>, <code>is</code>, and <code>is not</code> operators.\n",
    "    <br><b style=\"color:red\">For strings</b>, <code>==</code> and <code>is</code> generally do the same thing.\n",
    "    </p>"
   ]
  },
  {
   "cell_type": "markdown",
   "metadata": {},
   "source": [
    "<p style='font-size:1.75rem;line-height:1.5'>\n",
    "    Run the code block below to check if two strings are <strong>not identical</strong> using <code>is not</code>.\n",
    "    </p>"
   ]
  },
  {
   "cell_type": "code",
   "execution_count": null,
   "metadata": {},
   "outputs": [],
   "source": [
    "a = \"hi\"\n",
    "b = \"hi\"\n",
    "print(a is not b)"
   ]
  },
  {
   "cell_type": "markdown",
   "metadata": {},
   "source": [
    "# Logical Operators\n",
    "<p style='font-size:1.75rem;line-height:1.5'>\n",
    "    We can also use the <b style=\"color:blue\">logical operators</b> <code>not</code>, <code>and</code>, and <code>or</code> on booleans to make more complicated logical statements:\n",
    "    </p>\n",
    "<ul style='font-size:1.75rem;line-height:1.5'>\n",
    "    <li><code>not</code>: <code>True</code> if the boolean is <code>False</code>, <code>False</code> otherwise.</li>\n",
    "    <li><code>and</code>: <code>True</code> if <strong>both</strong> booleans are <code>True</code>, <code>False</code> otherwise.</li>\n",
    "    <li><code>or</code>: <code>True</code> if <strong>either</strong> boolean is <code>True</code>, <code>False</code> otherwise.</li>\n",
    "</ul>"
   ]
  },
  {
   "cell_type": "markdown",
   "metadata": {},
   "source": [
    "<p style='font-size:1.75rem;line-height:1.5'>\n",
    "    Run <code>not False</code> below. Is the result what you expected?\n",
    "    </p>"
   ]
  },
  {
   "cell_type": "code",
   "execution_count": null,
   "metadata": {},
   "outputs": [],
   "source": [
    "# Start your code here\n",
    "print(not False)\n"
   ]
  },
  {
   "cell_type": "markdown",
   "metadata": {},
   "source": [
    "<p style='font-size:1.75rem;line-height:1.5'>\n",
    "    Run <code>True and False</code> below. Is the result what you expected?\n",
    "    </p>"
   ]
  },
  {
   "cell_type": "code",
   "execution_count": null,
   "metadata": {},
   "outputs": [],
   "source": [
    "# Start your code here\n",
    "print(True and False)\n"
   ]
  },
  {
   "cell_type": "markdown",
   "metadata": {},
   "source": [
    "<p style='font-size:1.75rem;line-height:1.5'>\n",
    "    Run <code>True or True</code> below. Is the result what you expected?\n",
    "    </p>"
   ]
  },
  {
   "cell_type": "code",
   "execution_count": null,
   "metadata": {},
   "outputs": [],
   "source": [
    "# Start your code here\n",
    "print(True or True)\n"
   ]
  },
  {
   "cell_type": "markdown",
   "metadata": {},
   "source": [
    "<p style='font-size:1.75rem;line-height:1.5'>\n",
    "    Like mathematical operators, logical operators also have an <b style=\"color:blue\">order of operations</b>: \n",
    "    <ol style='font-size:1.75rem;line-height:2'>\n",
    "        <li><code>()</code></li>\n",
    "        <li><code>not</code></li>\n",
    "        <li><code>and</code></li>\n",
    "        <li> <code>or</code></li>\n",
    "    </ol>\n",
    "    </p>"
   ]
  },
  {
   "cell_type": "markdown",
   "metadata": {},
   "source": [
    "<p style='font-size:1.75rem;line-height:1.5'>\n",
    "    Based on this order, run <code>not False or True and True</code> below. \n",
    "    <br> Is the result what you expected?\n",
    "    </p>"
   ]
  },
  {
   "cell_type": "code",
   "execution_count": null,
   "metadata": {},
   "outputs": [],
   "source": [
    "# Start your code here\n",
    "print(not False or True and True)\n"
   ]
  },
  {
   "cell_type": "markdown",
   "metadata": {},
   "source": [
    "<p style='font-size:1.75rem;line-height:1.5'>\n",
    "    We can also use <b style=\"color:blue\">parenthesis</b> <code>( )</code>. Whatever is inside the parenthesis is evaluated first.\n",
    "    </p>"
   ]
  },
  {
   "cell_type": "markdown",
   "metadata": {},
   "source": [
    "<p style='font-size:1.75rem;line-height:1.5'>\n",
    "    Based on this order, run <code>not (False or True) and True</code> below. \n",
    "    <br> Is the result what you expected?\n",
    "    </p>"
   ]
  },
  {
   "cell_type": "code",
   "execution_count": null,
   "metadata": {},
   "outputs": [],
   "source": [
    "# Start your code here\n",
    "print(not (False or True) and True)\n"
   ]
  },
  {
   "cell_type": "markdown",
   "metadata": {},
   "source": [
    "# Combining Comparisons\n",
    "<p style='font-size:1.75rem;line-height:1.5'>\n",
    "    As we have seen in previous exercises, comparison statements evaluate to booleans. This means that we can <b style=\"color:blue\">combine multiple comparisons</b> using logical operators!\n",
    "    </p>"
   ]
  },
  {
   "cell_type": "markdown",
   "metadata": {},
   "source": [
    "<p style='font-size:1.75rem;line-height:1.5'>\n",
    "    4. Write a function called non_negative which takes in a number and returns if it is zero or positive\n",
    "    <b>only by calling functions you have already written, and using logical operators!</b>\n",
    "    </p>"
   ]
  },
  {
   "cell_type": "code",
   "execution_count": null,
   "metadata": {},
   "outputs": [],
   "source": [
    "# Write your code here! Remember to include a purpose statement, output type, and to test your function.\n"
   ]
  },
  {
   "cell_type": "markdown",
   "metadata": {},
   "source": [
    "# Conditional Statements\n",
    "<p style='font-size:1.75rem;line-height:1.5'>\n",
    "    We can use <code>if</code>, <code>else</code>, and <code>elif</code> in order to tell the program <b style=\"color:blue\">whether to run a particular indented block</b> of code based on a boolean.\n",
    "    </p>\n",
    "<ul style='font-size:1.75rem;line-height:1.5'>\n",
    "    <li><code>if</code>: Run code if boolean is <code>True</code>.</li>\n",
    "    <li><code>elif</code>: Run code if previous conditions are <code>False</code> and boolean is <code>True</code>.</li>\n",
    "    <li><code>else</code>: Run code if previous conditions are <code>False</code>.</li>\n",
    "</ul>"
   ]
  },
  {
   "cell_type": "markdown",
   "metadata": {},
   "source": [
    "<p style='font-size:1.75rem;line-height:1.5'>\n",
    "    Let's start with an example of a simple if statement. What do you expect to be printed for different values of <code>n</code>? Why? Try choosing different numbers and see what happens.\n",
    "    </p>"
   ]
  },
  {
   "cell_type": "code",
   "execution_count": null,
   "metadata": {},
   "outputs": [],
   "source": [
    "# Choose n\n",
    "n = int(input(\"Input n: \"))\n",
    "\n",
    "if n > 10:\n",
    "    print('n is greater than 10')"
   ]
  },
  {
   "cell_type": "markdown",
   "metadata": {},
   "source": [
    "<p style='font-size:1.75rem;line-height:1.5'>\n",
    "    If <code>n</code> is less than or equal to 10, nothing is printed since the condition is false (remember, <code>&gt;</code> means <em>strictly</em> greater than).\n",
    "    </p>\n",
    "<p style='font-size:1.75rem;line-height:1.5'> \n",
    "    We can make our code more interesting by adding an <code>elif</code> statement.\n",
    "    </p>"
   ]
  },
  {
   "cell_type": "code",
   "execution_count": null,
   "metadata": {},
   "outputs": [],
   "source": [
    "# Choose n\n",
    "n = int(input(\"Input n: \"))\n",
    "\n",
    "if n > 10:\n",
    "    print('n is greater than 10')\n",
    "elif n < 10:\n",
    "    print('n is less than 10')"
   ]
  },
  {
   "cell_type": "markdown",
   "metadata": {},
   "source": [
    "<p style='font-size:1.75rem;line-height:1.5'>\n",
    "    Our code is better, but we still get no feedback if <code>n</code> is exactly 10. An <code>else</code> statement will run if all previous conditions were <code>False</code>.\n",
    "    </p>"
   ]
  },
  {
   "cell_type": "markdown",
   "metadata": {},
   "source": [
    "<p style='font-size:1.75rem;line-height:1.5'>\n",
    "    5. Write a function below that takes in a number.\n",
    "    If the number is less than 10, print \"the number is less than 10\"\n",
    "    Else if the number is greater than 10, print \"the number is greater than 10\"\n",
    "    Else if the number equals 10 exactly, print \"the number is 10\"\n",
    "    </p>"
   ]
  },
  {
   "cell_type": "code",
   "execution_count": null,
   "metadata": {},
   "outputs": [],
   "source": [
    "# Write your code here! Remember to include a purpose statement, output type, and to test your function.\n"
   ]
  },
  {
   "cell_type": "markdown",
   "metadata": {},
   "source": [
    "<p style='font-size:1.75rem;line-height:1.5'>\n",
    "    Note: We can also nest if statements. Examine the following code and think about what will happen for different values of <code>n</code>. (Remember, an if statement is just a block of code that can be within another if statement!)\n",
    "    </p>"
   ]
  },
  {
   "cell_type": "code",
   "execution_count": null,
   "metadata": {},
   "outputs": [],
   "source": [
    "# Choose n\n",
    "n = int(input(\"Input n: \"))\n",
    "\n",
    "if n > 0:\n",
    "    if n > 10:\n",
    "        print('n is greater than 10')\n",
    "    elif n < 10:\n",
    "        print('n is less than 10')\n",
    "    else:\n",
    "        print('n is 10')\n",
    "else:\n",
    "    print('n is not positive!')"
   ]
  },
  {
   "cell_type": "markdown",
   "metadata": {},
   "source": [
    "# The Candy Party\n",
    "<p style='font-size:1.75rem;line-height:1.5'>\n",
    "    When beavers get together for a party, they like to have candy. A beaver party is successful when the number of candies is between 40 and 60, inclusive. Unless it is the weekend, in which case there is no upper bound on the number of candies.\n",
    "    </p>\n",
    "<p style='font-size:1.75rem;line-height:1.5'>\n",
    "    Write a function called successful party that takes in a number of candies and if it is the weekend, and returns if the Beaver Party will be successful.\n",
    "    </p>\n",
    "<p style='font-size:1.75rem;line-height:1.5'>\n",
    "    Try your code for different values of <code>candies</code> and <code>is_weekend</code> to test it.\n",
    "    </p>"
   ]
  },
  {
   "cell_type": "code",
   "execution_count": null,
   "metadata": {},
   "outputs": [],
   "source": [
    "# Checks if a Beaver Party will be successful\n",
    "def successful_party(candies: int, is_weekend: bool) -> bool:\n",
    "    # Write your code here!\n",
    "\n",
    "# Test your code here!"
   ]
  },
  {
   "cell_type": "markdown",
   "metadata": {},
   "source": [
    "# Tennis Game\n",
    "\n",
    "<p style='font-size:1.75rem;line-height:1.5'>\n",
    "    You are playing doubles in a tennis game. The variable <code>you</code> is your tennis skill level, from 0 to 10. <code>tm</code> is your teammate's tennis skill level, from 0 to 10. Your chances of winning are <code>0</code> = no, <code>1</code> = maybe, and <code>2</code> = yes. Your chances are based on the following conditions:\n",
    "    </p>\n",
    "<ul style='font-size:1.75rem;line-height:1.5'>\n",
    "    <li>If your skill level is 3 or more above your teammate's, then your chances are <code>2</code>.</li>\n",
    "    <li>If your skill level is within 2 of your teammate's, the your chances are <code>1</code>.</li>\n",
    "    <li>If your skill level is 3 or less below your teammate's, then your chances are <code>0</code>.</li>\n",
    "</ul>\n",
    "<p style='font-size:1.75rem;line-height:1.5'>\n",
    "    Based on you and your teammate's skill levels, print your chances of winning.\n",
    "    </p>\n"
   ]
  },
  {
   "cell_type": "code",
   "execution_count": null,
   "metadata": {},
   "outputs": [],
   "source": [
    "# This code generates and prints the skill levels.\n",
    "# (Don't worry about understanding it.)\n",
    "\n",
    "# Returns the chance of winning a tennis match\n",
    "def random_match(you: int, tm: int) -> int:\n",
    "    print(\"Your Skill: \" + str(you))      # print your skill level\n",
    "    print(\"Teammate' Skill: \" + str(tm))  # print teammate's skill level\n",
    "    \n",
    "    # Write your code here!\n",
    "\n"
   ]
  },
  {
   "cell_type": "markdown",
   "metadata": {},
   "source": [
    "# Lone Sum\n",
    "<p style='font-size:1.75rem;line-height:1.5'>\n",
    "    Write a function called lone_sum that takes three integers <code>a</code>, <code>b</code>, and <code>c</code>, and returns their sum. However, if two numbers have the same value, neither value counts towards the sum. For example: lone_sum(2, 2, 3) = 3 and lone_sum(1, 2, 3) = 6\n",
    "    </p>"
   ]
  },
  {
   "cell_type": "code",
   "execution_count": null,
   "metadata": {},
   "outputs": [],
   "source": [
    "# Write your code here! Remember to include a purpose statement, input and output types, and to test your function.\n",
    "\n",
    "\n"
   ]
  }
 ],
 "metadata": {
  "kernelspec": {
   "display_name": "Python 3",
   "language": "python",
   "name": "python3"
  },
  "language_info": {
   "codemirror_mode": {
    "name": "ipython",
    "version": 3
   },
   "file_extension": ".py",
   "mimetype": "text/x-python",
   "name": "python",
   "nbconvert_exporter": "python",
   "pygments_lexer": "ipython3",
   "version": "3.8.1"
  }
 },
 "nbformat": 4,
 "nbformat_minor": 4
}
